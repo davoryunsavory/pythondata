{
 "cells": [
  {
   "cell_type": "code",
   "execution_count": 3,
   "source": [
    "import pandas as pd\r\n",
    "import os"
   ],
   "outputs": [],
   "metadata": {}
  },
  {
   "cell_type": "code",
   "execution_count": 128,
   "source": [
    "book = pd.read_csv(\"sales2019.csv\")\r\n",
    "df = pd.DataFrame(book)\r\n",
    "df"
   ],
   "outputs": [
    {
     "output_type": "execute_result",
     "data": {
      "text/html": [
       "<div>\n",
       "<style scoped>\n",
       "    .dataframe tbody tr th:only-of-type {\n",
       "        vertical-align: middle;\n",
       "    }\n",
       "\n",
       "    .dataframe tbody tr th {\n",
       "        vertical-align: top;\n",
       "    }\n",
       "\n",
       "    .dataframe thead th {\n",
       "        text-align: right;\n",
       "    }\n",
       "</style>\n",
       "<table border=\"1\" class=\"dataframe\">\n",
       "  <thead>\n",
       "    <tr style=\"text-align: right;\">\n",
       "      <th></th>\n",
       "      <th>date</th>\n",
       "      <th>user_submitted_review</th>\n",
       "      <th>title</th>\n",
       "      <th>total_purchased</th>\n",
       "      <th>customer_type</th>\n",
       "    </tr>\n",
       "  </thead>\n",
       "  <tbody>\n",
       "    <tr>\n",
       "      <th>0</th>\n",
       "      <td>5/22/19</td>\n",
       "      <td>it was okay</td>\n",
       "      <td>Secrets Of R For Advanced Students</td>\n",
       "      <td>7.0</td>\n",
       "      <td>Business</td>\n",
       "    </tr>\n",
       "    <tr>\n",
       "      <th>1</th>\n",
       "      <td>11/16/19</td>\n",
       "      <td>Awesome!</td>\n",
       "      <td>R For Dummies</td>\n",
       "      <td>3.0</td>\n",
       "      <td>Business</td>\n",
       "    </tr>\n",
       "    <tr>\n",
       "      <th>2</th>\n",
       "      <td>6/27/19</td>\n",
       "      <td>Awesome!</td>\n",
       "      <td>R For Dummies</td>\n",
       "      <td>1.0</td>\n",
       "      <td>Individual</td>\n",
       "    </tr>\n",
       "    <tr>\n",
       "      <th>3</th>\n",
       "      <td>11/6/19</td>\n",
       "      <td>Awesome!</td>\n",
       "      <td>Fundamentals of R For Beginners</td>\n",
       "      <td>3.0</td>\n",
       "      <td>Individual</td>\n",
       "    </tr>\n",
       "    <tr>\n",
       "      <th>4</th>\n",
       "      <td>7/18/19</td>\n",
       "      <td>Hated it</td>\n",
       "      <td>Fundamentals of R For Beginners</td>\n",
       "      <td>NaN</td>\n",
       "      <td>Business</td>\n",
       "    </tr>\n",
       "    <tr>\n",
       "      <th>...</th>\n",
       "      <td>...</td>\n",
       "      <td>...</td>\n",
       "      <td>...</td>\n",
       "      <td>...</td>\n",
       "      <td>...</td>\n",
       "    </tr>\n",
       "    <tr>\n",
       "      <th>4995</th>\n",
       "      <td>4/29/19</td>\n",
       "      <td>Hated it</td>\n",
       "      <td>Fundamentals of R For Beginners</td>\n",
       "      <td>NaN</td>\n",
       "      <td>Business</td>\n",
       "    </tr>\n",
       "    <tr>\n",
       "      <th>4996</th>\n",
       "      <td>10/31/19</td>\n",
       "      <td>Never read a better book</td>\n",
       "      <td>R For Dummies</td>\n",
       "      <td>NaN</td>\n",
       "      <td>Business</td>\n",
       "    </tr>\n",
       "    <tr>\n",
       "      <th>4997</th>\n",
       "      <td>10/30/19</td>\n",
       "      <td>I learned a lot</td>\n",
       "      <td>R For Dummies</td>\n",
       "      <td>4.0</td>\n",
       "      <td>Individual</td>\n",
       "    </tr>\n",
       "    <tr>\n",
       "      <th>4998</th>\n",
       "      <td>8/11/19</td>\n",
       "      <td>it was okay</td>\n",
       "      <td>Fundamentals of R For Beginners</td>\n",
       "      <td>3.0</td>\n",
       "      <td>Business</td>\n",
       "    </tr>\n",
       "    <tr>\n",
       "      <th>4999</th>\n",
       "      <td>11/7/19</td>\n",
       "      <td>I learned a lot</td>\n",
       "      <td>Fundamentals of R For Beginners</td>\n",
       "      <td>NaN</td>\n",
       "      <td>Individual</td>\n",
       "    </tr>\n",
       "  </tbody>\n",
       "</table>\n",
       "<p>5000 rows × 5 columns</p>\n",
       "</div>"
      ],
      "text/plain": [
       "          date     user_submitted_review                               title  \\\n",
       "0      5/22/19               it was okay  Secrets Of R For Advanced Students   \n",
       "1     11/16/19                  Awesome!                       R For Dummies   \n",
       "2      6/27/19                  Awesome!                       R For Dummies   \n",
       "3      11/6/19                  Awesome!     Fundamentals of R For Beginners   \n",
       "4      7/18/19                  Hated it     Fundamentals of R For Beginners   \n",
       "...        ...                       ...                                 ...   \n",
       "4995   4/29/19                  Hated it     Fundamentals of R For Beginners   \n",
       "4996  10/31/19  Never read a better book                       R For Dummies   \n",
       "4997  10/30/19           I learned a lot                       R For Dummies   \n",
       "4998   8/11/19               it was okay     Fundamentals of R For Beginners   \n",
       "4999   11/7/19           I learned a lot     Fundamentals of R For Beginners   \n",
       "\n",
       "      total_purchased customer_type  \n",
       "0                 7.0      Business  \n",
       "1                 3.0      Business  \n",
       "2                 1.0    Individual  \n",
       "3                 3.0    Individual  \n",
       "4                 NaN      Business  \n",
       "...               ...           ...  \n",
       "4995              NaN      Business  \n",
       "4996              NaN      Business  \n",
       "4997              4.0    Individual  \n",
       "4998              3.0      Business  \n",
       "4999              NaN    Individual  \n",
       "\n",
       "[5000 rows x 5 columns]"
      ]
     },
     "metadata": {},
     "execution_count": 128
    }
   ],
   "metadata": {}
  },
  {
   "cell_type": "code",
   "execution_count": 145,
   "source": [
    "\r\n",
    "df.user_submitted_review.unique()\r\n",
    "df.title.unique()\r\n"
   ],
   "outputs": [
    {
     "output_type": "execute_result",
     "data": {
      "text/plain": [
       "array(['Secrets Of R For Advanced Students', 'R For Dummies',\n",
       "       'Fundamentals of R For Beginners', 'R vs Python: An Essay',\n",
       "       'Top 10 Mistakes R Beginners Make', 'R Made Easy'], dtype=object)"
      ]
     },
     "metadata": {},
     "execution_count": 145
    }
   ],
   "metadata": {}
  },
  {
   "cell_type": "code",
   "execution_count": 156,
   "source": [
    "usercount = [0,0,0]\r\n",
    "x = \"Individual\"\r\n",
    "# negative, neutral, positive \r\n",
    "\r\n",
    "\r\n",
    "\r\n",
    "print(usercount)\r\n"
   ],
   "outputs": [
    {
     "output_type": "stream",
     "name": "stdout",
     "text": [
      "[306, 260, 551]\n"
     ]
    }
   ],
   "metadata": {}
  },
  {
   "cell_type": "code",
   "execution_count": 168,
   "source": [
    "def query(title, customer_type):\r\n",
    "    usercount = [0,0,0]\r\n",
    "    for i in range(len(df)):\r\n",
    "        if df.loc[i, \"title\"] == title:\r\n",
    "            if customer_type == \"all\":\r\n",
    "                if df.loc[i, \"user_submitted_review\"] == \"it was okay\":\r\n",
    "                    usercount[2] = usercount[2] + 1\r\n",
    "                elif df.loc[i, \"user_submitted_review\"] == \"Awesome!\":\r\n",
    "                    usercount[2] = usercount[2] + 1\r\n",
    "                elif df.loc[i, \"user_submitted_review\"] == \"I learned a lot\":\r\n",
    "                    usercount[2] = usercount[2] + 1\r\n",
    "                elif df.loc[i, \"user_submitted_review\"] == \"Never read a better book\":\r\n",
    "                    usercount[2] = usercount[2] + 1\r\n",
    "                elif df.loc[i, \"user_submitted_review\"] == \"OK\":\r\n",
    "                    usercount[1] = usercount[1] + 1\r\n",
    "                elif df.loc[i, \"user_submitted_review\"] == \"A lot of material was not needed\":\r\n",
    "                    usercount[1] = usercount[1] + 1\r\n",
    "                elif df.loc[i, \"user_submitted_review\"] == \"The author''s other books were better\":\r\n",
    "                    usercount[1] = usercount[1] + 1\r\n",
    "                elif df.loc[i, \"user_submitted_review\"] == \"Would not recommend\":\r\n",
    "                    usercount[0] = usercount[0] + 1\r\n",
    "                elif df.loc[i, \"user_submitted_review\"] == \"Hated it\":\r\n",
    "                    usercount[0] = usercount[0] + 1\r\n",
    "            if df.loc[i, \"user_submitted_review\"] == \"it was okay\" and df.loc[i, \"customer_type\"] == customer_type:\r\n",
    "                usercount[2] = usercount[2] + 1\r\n",
    "            elif df.loc[i, \"user_submitted_review\"] == \"Awesome!\" and df.loc[i, \"customer_type\"] == customer_type:\r\n",
    "                usercount[2] = usercount[2] + 1\r\n",
    "            elif df.loc[i, \"user_submitted_review\"] == \"I learned a lot\" and df.loc[i, \"customer_type\"] == customer_type:\r\n",
    "                usercount[2] = usercount[2] + 1\r\n",
    "            elif df.loc[i, \"user_submitted_review\"] == \"Never read a better book\" and df.loc[i, \"customer_type\"] == customer_type:\r\n",
    "                usercount[2] = usercount[2] + 1\r\n",
    "            elif df.loc[i, \"user_submitted_review\"] == \"OK\" and df.loc[i, \"customer_type\"] == customer_type:\r\n",
    "                usercount[1] = usercount[1] + 1\r\n",
    "            elif df.loc[i, \"user_submitted_review\"] == \"A lot of material was not needed\" and df.loc[i, \"customer_type\"] == customer_type:\r\n",
    "                usercount[1] = usercount[1] + 1\r\n",
    "            elif df.loc[i, \"user_submitted_review\"] == \"The author''s other books were better\" and df.loc[i, \"customer_type\"] == customer_type:\r\n",
    "                usercount[1] = usercount[1] + 1\r\n",
    "            elif df.loc[i, \"user_submitted_review\"] == \"Would not recommend\" and df.loc[i, \"customer_type\"] == customer_type:\r\n",
    "                usercount[0] = usercount[0] + 1\r\n",
    "            elif df.loc[i, \"user_submitted_review\"] == \"Hated it\" and df.loc[i, \"customer_type\"] == customer_type:\r\n",
    "                usercount[0] = usercount[0] + 1\r\n",
    "    print(usercount)"
   ],
   "outputs": [],
   "metadata": {}
  },
  {
   "cell_type": "code",
   "execution_count": 171,
   "source": [
    "query(\"Top 10 Mistakes R Beginners Make\", \"all\")"
   ],
   "outputs": [
    {
     "output_type": "stream",
     "name": "stdout",
     "text": [
      "[35, 25, 52]\n"
     ]
    }
   ],
   "metadata": {}
  },
  {
   "cell_type": "code",
   "execution_count": 180,
   "source": [
    "monthdate = []\r\n",
    "for i in range(len(df)):\r\n",
    "    monthdate.append(df.loc[i, \"date\"].replace(\"/\", \"\"))\r\n",
    "\r\n",
    "len(monthdate)"
   ],
   "outputs": [
    {
     "output_type": "execute_result",
     "data": {
      "text/plain": [
       "5000"
      ]
     },
     "metadata": {},
     "execution_count": 180
    }
   ],
   "metadata": {}
  },
  {
   "cell_type": "code",
   "execution_count": null,
   "source": [
    "for x in range(len(monthdate)):\r\n",
    "    if int(monthdate[x][:2]) > 12:\r\n",
    "        monthdate[x] = monthdate[x][:1]\r\n",
    "    else:\r\n",
    "        monthdate[x] = monthdate[x][:2]\r\n",
    "\r\n",
    "monthdate"
   ],
   "outputs": [],
   "metadata": {}
  },
  {
   "cell_type": "code",
   "execution_count": null,
   "source": [],
   "outputs": [],
   "metadata": {}
  }
 ],
 "metadata": {
  "orig_nbformat": 4,
  "language_info": {
   "name": "python",
   "version": "3.8.8",
   "mimetype": "text/x-python",
   "codemirror_mode": {
    "name": "ipython",
    "version": 3
   },
   "pygments_lexer": "ipython3",
   "nbconvert_exporter": "python",
   "file_extension": ".py"
  },
  "kernelspec": {
   "name": "python3",
   "display_name": "Python 3.8.8 64-bit ('base': conda)"
  },
  "interpreter": {
   "hash": "201ef9045d1e569690d4ef19acedf47659d611d6c0ceca4c00974770fb24d6e6"
  }
 },
 "nbformat": 4,
 "nbformat_minor": 2
}